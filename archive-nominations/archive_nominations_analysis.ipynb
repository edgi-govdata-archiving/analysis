{
 "cells": [
  {
   "cell_type": "code",
   "execution_count": 6,
   "metadata": {
    "collapsed": false
   },
   "outputs": [],
   "source": [
    "%matplotlib inline\n",
    "import matplotlib.pyplot as plt\n",
    "import numpy as np\n",
    "import pandas as pd\n",
    "from collections import Counter\n",
    "from datetime import datetime\n",
    "import timestring\n",
    "from scipy import stats"
   ]
  },
  {
   "cell_type": "markdown",
   "metadata": {},
   "source": [
    "# Nomination Analysis\n",
    "This notebook analyzes URLs outputted by EDGI's Nomination Tool. \n",
    "\n",
    "**Note**: In this analysis, the term \"uncrawlable\" is avoided as it is not an appropriate representation of what was nominated. Instead, the term \"pages with data\" is used. This corresponds to URLs that are hosting information or data that is flagged for archiving and \"data\" is used in a broad sense to mean collections of files, FTP pages, .\n",
    "\n",
    "\n",
    "**This analysis includes**:\n",
    "- Numbers for unique nominated URLs vs. pages with data\n",
    "- Breakdown of numbers above by agency\n",
    "- Progess of primer line completion. **Disclaimer**: Using total number of nominated URLs is NOT a good metric to use to understand how much work was done or if an agency was covered. Completion of a primer lines are the best way we know at the moment to denote that a section of a website was screened and seeded appropriately.\n",
    "\n",
    "Toly Rinberg - April 1, 2017"
   ]
  },
  {
   "cell_type": "code",
   "execution_count": 7,
   "metadata": {
    "collapsed": false
   },
   "outputs": [],
   "source": [
    "# Import Data\n",
    "#\n",
    "df_raw = pd.read_csv('NominationToolOutput_121716to040117_cleaned_anon.csv', encoding = \"ISO-8859-1\", low_memory=False)\n",
    "agency_db = pd.read_csv('agency_database.csv',encoding = \"ISO-8859-1\")\n",
    "primer_db = pd.read_csv('primer_db_040117.csv',encoding = \"ISO-8859-1\")"
   ]
  },
  {
   "cell_type": "code",
   "execution_count": 8,
   "metadata": {
    "collapsed": false
   },
   "outputs": [],
   "source": [
    "#Initialize new columns for rows that will be added\n",
    "N_raw = len(df_raw)\n",
    "df_raw[\"delta_days\"] = \"\"\n",
    "df_raw[\"unique\"] = \"\"\n",
    "df_raw[\"date\"] = \"\""
   ]
  },
  {
   "cell_type": "code",
   "execution_count": 9,
   "metadata": {
    "collapsed": false
   },
   "outputs": [],
   "source": [
    "#Set up a unique key for each entry. The reason to do this is because for some reason \n",
    "#there are duplicate entries and this is a reliable way to get rid of those entries\n",
    "ref_date =  datetime.strptime('12/16/2016', '%m/%d/%Y')\n",
    "\n",
    "for i in range(0, N_raw):\n",
    "    df_raw.iat[i,-2] = df_raw.iat[i,0] + str(df_raw.iat[i,1]) + df_raw.iat[i,3] + df_raw.iat[i,6]\n",
    "    df_raw.iat[i,-1] = datetime.strptime(df_raw['Timestamp'][i], '%m/%d/%Y %H:%M')\n",
    "    delta_days = df_raw.iat[i,-1]- ref_date\n",
    "    df_raw.iat[i,-3] = delta_days.days"
   ]
  },
  {
   "cell_type": "code",
   "execution_count": 10,
   "metadata": {
    "collapsed": false
   },
   "outputs": [],
   "source": [
    "#Get rid of duplicate entries. Note that this is NOT getting rid of duplicate URLs, but entire rows that are the same.\n",
    "df = df_raw.drop_duplicates('unique').copy()\n",
    "N = len(df)"
   ]
  },
  {
   "cell_type": "markdown",
   "metadata": {},
   "source": [
    "## Cleaning and Normalizing"
   ]
  },
  {
   "cell_type": "code",
   "execution_count": 11,
   "metadata": {
    "collapsed": false
   },
   "outputs": [],
   "source": [
    "#Convert all 'Yes' --> 1 and NaN --> 0\n",
    "#There must be a better way to just select the columns you care about, but I did this in a rush and this works:\n",
    "df['Uncrawlable'].replace(('Yes', np.nan), (1, 0), inplace=True)\n",
    "df['Visualization/Interactive'].replace(('Yes', np.nan), (1, 0), inplace=True)\n",
    "df['Files'].replace(('Yes', np.nan), (1, 0), inplace=True)\n",
    "df['FTP'].replace(('Yes', np.nan), (1, 0), inplace=True)\n",
    "df['Database'].replace(('Yes', np.nan), (1, 0), inplace=True)\n",
    "df['Agency ID'].replace(( np.nan), (0), inplace=True)\n",
    "df['Subagency ID'].replace(( np.nan), (0), inplace=True)\n",
    "df['Organization ID'].replace(( np.nan), (0), inplace=True)\n",
    "df['Suborganization ID'].replace((np.nan), (0), inplace=True)\n",
    "df['Subprimer ID'].replace((np.nan), (0), inplace=True)"
   ]
  },
  {
   "cell_type": "code",
   "execution_count": 12,
   "metadata": {
    "collapsed": false
   },
   "outputs": [],
   "source": [
    "#Establish a unique code based on the Agency Office Code and the Subprimer Numbers\n",
    "code = df['Agency ID']*1e8 + df['Subagency ID']*1e6 + df['Organization ID']*1e4 + df['Suborganization ID']*1e2 + df['Subprimer ID']\n",
    "df['code'] = code"
   ]
  },
  {
   "cell_type": "code",
   "execution_count": 13,
   "metadata": {
    "collapsed": false
   },
   "outputs": [],
   "source": [
    "#Add a new column that idenitifies if the entry corresponds to a \"Nominated URL\"\n",
    "is_pageWithData = df['Uncrawlable'] + df['Visualization/Interactive'] + df['Files'] + df['FTP'] + df['Database'] > 0\n",
    "df['is_pageWithData'] = is_pageWithData"
   ]
  },
  {
   "cell_type": "markdown",
   "metadata": {},
   "source": [
    "## Make Unique URL list"
   ]
  },
  {
   "cell_type": "code",
   "execution_count": 14,
   "metadata": {
    "collapsed": false
   },
   "outputs": [],
   "source": [
    "#First, sort so that uncrawlables are all on the top\n",
    "#Then drop duplicate URLs, which will remove all duplicates keeping the top most entry\n",
    "#This ensures that if there are multiple nominations for the same URL, you will keep the pages with data nomination if that one exists.\n",
    "df_un = df.sort_values(['is_pageWithData'], ascending=[False]).drop_duplicates('URL').copy()"
   ]
  },
  {
   "cell_type": "markdown",
   "metadata": {},
   "source": [
    "##  Pages with Data to Archive"
   ]
  },
  {
   "cell_type": "code",
   "execution_count": 17,
   "metadata": {
    "collapsed": false
   },
   "outputs": [
    {
     "name": "stdout",
     "output_type": "stream",
     "text": [
      "Number of Unique URLs: 54933\n",
      "Number of Pages with Data to Archive: 19719\n",
      "Percent Pages with Data to Archive: 35.9%\n",
      "\n",
      "Number of Pages with Many Files pages: 5683\n",
      "Number of Pages with Visualization/Interactive Features: 6316\n",
      "Number of Pages with a Database: 3175\n",
      "Number of FTP pages: 650\n"
     ]
    }
   ],
   "source": [
    "print('Number of Unique URLs: ' + str(len(df_un)))\n",
    "print('Number of Pages with Data to Archive: ' + str(sum(df_un['is_pageWithData'])))\n",
    "print('Percent Pages with Data to Archive: ' + str(np.round(1000*sum(df_un['is_pageWithData'])/len(df_un))/10 ) + '%')\n",
    "print('')\n",
    "print('Number of Pages with Many Files pages: ' + str(sum(df_un['Files'] == 1)))\n",
    "print('Number of Pages with Visualization/Interactive Features: ' + str(sum(df_un['Visualization/Interactive'] == 1))    )\n",
    "print('Number of Pages with a Database: ' + str(sum(df_un['Database'] == 1))    )\n",
    "print('Number of FTP pages: ' + str(sum(df_un['FTP'] == 1))   )"
   ]
  },
  {
   "cell_type": "markdown",
   "metadata": {},
   "source": [
    "## URLs by Agency"
   ]
  },
  {
   "cell_type": "code",
   "execution_count": 32,
   "metadata": {
    "collapsed": false
   },
   "outputs": [
    {
     "data": {
      "text/plain": [
       "<matplotlib.text.Text at 0x2a3abb85240>"
      ]
     },
     "execution_count": 32,
     "metadata": {},
     "output_type": "execute_result"
    },
    {
     "data": {
      "image/png": "[encoded data removed]",
      "text/plain": [
       "<matplotlib.figure.Figure at 0x2a3abac6668>"
      ]
     },
     "metadata": {},
     "output_type": "display_data"
    }
   ],
   "source": [
    "plt.figure(figsize=(10,5))\n",
    "plt.subplot(121)\n",
    "count_seeds_agency_id, bins2 = np.histogram(df_un['Agency ID'], np.linspace(1,10,10));\n",
    "plt.barh(bins2[0:-1],count_seeds_agency_id, alpha=1);\n",
    "plt.yticks(agency_db['id_agency'][0:9]+0.5, agency_db['agency'][0:9]);\n",
    "#np.sum(df['Agency ID'] == 1)\n",
    "plt.xlabel('Number of URLs')\n",
    "plt.ylabel('Federal Agencies')\n",
    "plt.title('Nominated Unique URLs by Agency')\n",
    "\n",
    "plt.subplot(122)\n",
    "count_pageWithData_agency_id, bins2 = np.histogram(df_un['Agency ID'][df_un['is_pageWithData']==True], np.linspace(1,10,10));\n",
    "plt.barh(bins2[0:-1],count_pageWithData_agency_id, alpha=1);\n",
    "plt.yticks(agency_db['id_agency'][0:9]+0.5, '');\n",
    "#np.sum(df['Agency ID'] == 1)\n",
    "plt.xlabel('Number of Datasets')\n",
    "plt.xlim([0,25000])\n",
    "plt.title('Nominated Unique Pages with Data by Agency')\n"
   ]
  },
  {
   "cell_type": "code",
   "execution_count": 23,
   "metadata": {
    "collapsed": false
   },
   "outputs": [
    {
     "data": {
      "text/html": [
       "<div>\n",
       "<table border=\"1\" class=\"dataframe\">\n",
       "  <thead>\n",
       "    <tr style=\"text-align: right;\">\n",
       "      <th></th>\n",
       "      <th>Agency</th>\n",
       "      <th>Number of Pages with Data</th>\n",
       "      <th>Number of URLs</th>\n",
       "      <th>Percent Pages with Data</th>\n",
       "    </tr>\n",
       "  </thead>\n",
       "  <tbody>\n",
       "    <tr>\n",
       "      <th>0</th>\n",
       "      <td>EPA</td>\n",
       "      <td>4411</td>\n",
       "      <td>20455</td>\n",
       "      <td>21.6</td>\n",
       "    </tr>\n",
       "    <tr>\n",
       "      <th>1</th>\n",
       "      <td>DOE</td>\n",
       "      <td>4758</td>\n",
       "      <td>10912</td>\n",
       "      <td>43.6</td>\n",
       "    </tr>\n",
       "    <tr>\n",
       "      <th>2</th>\n",
       "      <td>NOAA</td>\n",
       "      <td>5589</td>\n",
       "      <td>13690</td>\n",
       "      <td>40.8</td>\n",
       "    </tr>\n",
       "    <tr>\n",
       "      <th>3</th>\n",
       "      <td>OSHA</td>\n",
       "      <td>45</td>\n",
       "      <td>113</td>\n",
       "      <td>39.8</td>\n",
       "    </tr>\n",
       "    <tr>\n",
       "      <th>4</th>\n",
       "      <td>NASA: SMD</td>\n",
       "      <td>2157</td>\n",
       "      <td>4284</td>\n",
       "      <td>50.4</td>\n",
       "    </tr>\n",
       "    <tr>\n",
       "      <th>5</th>\n",
       "      <td>NASA: SED</td>\n",
       "      <td>1036</td>\n",
       "      <td>1458</td>\n",
       "      <td>71.1</td>\n",
       "    </tr>\n",
       "    <tr>\n",
       "      <th>6</th>\n",
       "      <td>USDA</td>\n",
       "      <td>107</td>\n",
       "      <td>397</td>\n",
       "      <td>27.0</td>\n",
       "    </tr>\n",
       "    <tr>\n",
       "      <th>7</th>\n",
       "      <td>DOI</td>\n",
       "      <td>1431</td>\n",
       "      <td>2763</td>\n",
       "      <td>51.8</td>\n",
       "    </tr>\n",
       "    <tr>\n",
       "      <th>8</th>\n",
       "      <td>USGS</td>\n",
       "      <td>22</td>\n",
       "      <td>98</td>\n",
       "      <td>22.4</td>\n",
       "    </tr>\n",
       "  </tbody>\n",
       "</table>\n",
       "</div>"
      ],
      "text/plain": [
       "      Agency  Number of Pages with Data  Number of URLs  \\\n",
       "0        EPA                       4411           20455   \n",
       "1        DOE                       4758           10912   \n",
       "2       NOAA                       5589           13690   \n",
       "3       OSHA                         45             113   \n",
       "4  NASA: SMD                       2157            4284   \n",
       "5  NASA: SED                       1036            1458   \n",
       "6       USDA                        107             397   \n",
       "7        DOI                       1431            2763   \n",
       "8       USGS                         22              98   \n",
       "\n",
       "   Percent Pages with Data  \n",
       "0                     21.6  \n",
       "1                     43.6  \n",
       "2                     40.8  \n",
       "3                     39.8  \n",
       "4                     50.4  \n",
       "5                     71.1  \n",
       "6                     27.0  \n",
       "7                     51.8  \n",
       "8                     22.4  "
      ]
     },
     "execution_count": 23,
     "metadata": {},
     "output_type": "execute_result"
    }
   ],
   "source": [
    "num_seeds_by_agency = pd.DataFrame({'Agency': agency_db['agency'][0:9], \n",
    "                                    'Number of URLs': count_seeds_agency_id, \n",
    "                                    'Number of Pages with Data': count_pageWithData_agency_id,\n",
    "                                    'Percent Pages with Data': np.round(1000*count_pageWithData_agency_id/count_seeds_agency_id)/10})\n",
    "num_seeds_by_agency"
   ]
  },
  {
   "cell_type": "markdown",
   "metadata": {},
   "source": [
    "## Primer Progress\n",
    "\n",
    "#### This analysis takes the primer progress as input and plots the primer lines that were completed as a function of time."
   ]
  },
  {
   "cell_type": "code",
   "execution_count": 24,
   "metadata": {
    "collapsed": false
   },
   "outputs": [],
   "source": [
    "primer_lines = primer_db[primer_db['is_office']!='1'].copy()\n",
    "primer_lines['Office Code'] = pd.to_numeric(primer_lines['Office Code'])\n",
    "count_seeds_per_line = np.zeros(len(primer_lines))"
   ]
  },
  {
   "cell_type": "code",
   "execution_count": 25,
   "metadata": {
    "collapsed": false
   },
   "outputs": [],
   "source": [
    "for j in range(0,len(primer_lines)):\n",
    "    count_seeds_per_line[j] = np.sum(df_un['code'] == primer_lines['Office Code'].iloc[j])"
   ]
  },
  {
   "cell_type": "code",
   "execution_count": 26,
   "metadata": {
    "collapsed": false
   },
   "outputs": [
    {
     "data": {
      "text/plain": [
       "<Container object of 711 artists>"
      ]
     },
     "execution_count": 26,
     "metadata": {},
     "output_type": "execute_result"
    },
    {
     "data": {
      "image/png": "[encoded data removed]",
      "text/plain": [
       "<matplotlib.figure.Figure at 0x2a3b1bf1630>"
      ]
     },
     "metadata": {},
     "output_type": "display_data"
    }
   ],
   "source": [
    "plt.barh(range(0,len(primer_lines)),count_seeds_per_line)"
   ]
  },
  {
   "cell_type": "code",
   "execution_count": 27,
   "metadata": {
    "collapsed": false
   },
   "outputs": [],
   "source": [
    "count_primer_lines_per_day = np.zeros((len(primer_lines)-1,100))\n",
    "for i in range(0,100):\n",
    "    count_primer_lines_per_day[:,i], bins = np.histogram(df['code'][df['delta_days'] == i], np.sort(primer_lines['Office Code']))"
   ]
  },
  {
   "cell_type": "code",
   "execution_count": 30,
   "metadata": {
    "collapsed": false
   },
   "outputs": [
    {
     "data": {
      "text/plain": [
       "<matplotlib.text.Text at 0x2a3ab4553c8>"
      ]
     },
     "execution_count": 30,
     "metadata": {},
     "output_type": "execute_result"
    },
    {
     "data": {
      "image/png": "[encoded data removed]",
      "text/plain": [
       "<matplotlib.figure.Figure at 0x2a3ab17c240>"
      ]
     },
     "metadata": {},
     "output_type": "display_data"
    }
   ],
   "source": [
    "np.unique(df['delta_days'])\n",
    "dates = np.unique(df['date'])\n",
    "\n",
    "plt.figure(figsize=(15,5))\n",
    "cumul_count_primer_lines_per_day = np.cumsum(count_primer_lines_per_day,axis=1)\n",
    "plt.imshow(np.sort(cumul_count_primer_lines_per_day,axis = 0)[::-1], clim=(9.5,10), aspect='auto', cmap=\"Blues\")\n",
    "dates_list = [datetime.strftime(date, '%m/%d') for date in dates]\n",
    "plt.xticks(np.unique(df['delta_days'][0:-3]), np.unique(dates_list)[0:-3],rotation='vertical');\n",
    "plt.xlim([28,99])\n",
    "plt.ylim(plt.ylim()[::-1])\n",
    "plt.ylabel('Subprimer Lines');plt.xlabel('Date');plt.title('Completed Subprimer Lines over Time')"
   ]
  },
  {
   "cell_type": "code",
   "execution_count": null,
   "metadata": {
    "collapsed": false
   },
   "outputs": [],
   "source": []
  }
 ],
 "metadata": {
  "kernelspec": {
   "display_name": "Python 3",
   "language": "python",
   "name": "python3"
  },
  "language_info": {
   "codemirror_mode": {
    "name": "ipython",
    "version": 3
   },
   "file_extension": ".py",
   "mimetype": "text/x-python",
   "name": "python",
   "nbconvert_exporter": "python",
   "pygments_lexer": "ipython3",
   "version": "3.5.2"
  }
 },
 "nbformat": 4,
 "nbformat_minor": 0
}
